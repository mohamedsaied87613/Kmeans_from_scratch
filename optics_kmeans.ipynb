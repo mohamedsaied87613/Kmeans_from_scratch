{
 "cells": [
  {
   "cell_type": "code",
   "execution_count": 1,
   "metadata": {
    "collapsed": true
   },
   "outputs": [],
   "source": [
    "import numpy as np\n",
    "import pandas as pd"
   ]
  },
  {
   "cell_type": "code",
   "execution_count": 2,
   "outputs": [
    {
     "data": {
      "text/plain": "     Patv  Wspd  TurbID\n0    0.00  0.00       1\n1  494.66  6.17       1\n2  509.76  6.27       1\n3  542.53  6.42       1\n4  509.36  6.25       1",
      "text/html": "<div>\n<style scoped>\n    .dataframe tbody tr th:only-of-type {\n        vertical-align: middle;\n    }\n\n    .dataframe tbody tr th {\n        vertical-align: top;\n    }\n\n    .dataframe thead th {\n        text-align: right;\n    }\n</style>\n<table border=\"1\" class=\"dataframe\">\n  <thead>\n    <tr style=\"text-align: right;\">\n      <th></th>\n      <th>Patv</th>\n      <th>Wspd</th>\n      <th>TurbID</th>\n    </tr>\n  </thead>\n  <tbody>\n    <tr>\n      <th>0</th>\n      <td>0.00</td>\n      <td>0.00</td>\n      <td>1</td>\n    </tr>\n    <tr>\n      <th>1</th>\n      <td>494.66</td>\n      <td>6.17</td>\n      <td>1</td>\n    </tr>\n    <tr>\n      <th>2</th>\n      <td>509.76</td>\n      <td>6.27</td>\n      <td>1</td>\n    </tr>\n    <tr>\n      <th>3</th>\n      <td>542.53</td>\n      <td>6.42</td>\n      <td>1</td>\n    </tr>\n    <tr>\n      <th>4</th>\n      <td>509.36</td>\n      <td>6.25</td>\n      <td>1</td>\n    </tr>\n  </tbody>\n</table>\n</div>"
     },
     "execution_count": 2,
     "metadata": {},
     "output_type": "execute_result"
    }
   ],
   "source": [
    "df=pd.read_csv(\"optics_kmean_process.csv\")\n",
    "df.head()"
   ],
   "metadata": {
    "collapsed": false
   }
  },
  {
   "cell_type": "code",
   "execution_count": 3,
   "outputs": [
    {
     "data": {
      "text/plain": "            max   min\nPatv    1567.02 -9.33\nWspd      26.29  0.00\nTurbID   134.00  1.00",
      "text/html": "<div>\n<style scoped>\n    .dataframe tbody tr th:only-of-type {\n        vertical-align: middle;\n    }\n\n    .dataframe tbody tr th {\n        vertical-align: top;\n    }\n\n    .dataframe thead th {\n        text-align: right;\n    }\n</style>\n<table border=\"1\" class=\"dataframe\">\n  <thead>\n    <tr style=\"text-align: right;\">\n      <th></th>\n      <th>max</th>\n      <th>min</th>\n    </tr>\n  </thead>\n  <tbody>\n    <tr>\n      <th>Patv</th>\n      <td>1567.02</td>\n      <td>-9.33</td>\n    </tr>\n    <tr>\n      <th>Wspd</th>\n      <td>26.29</td>\n      <td>0.00</td>\n    </tr>\n    <tr>\n      <th>TurbID</th>\n      <td>134.00</td>\n      <td>1.00</td>\n    </tr>\n  </tbody>\n</table>\n</div>"
     },
     "execution_count": 3,
     "metadata": {},
     "output_type": "execute_result"
    }
   ],
   "source": [
    "pd.DataFrame({\"max\":df.max(), \"min\":df.min()})"
   ],
   "metadata": {
    "collapsed": false
   }
  },
  {
   "cell_type": "code",
   "execution_count": 4,
   "outputs": [
    {
     "data": {
      "text/plain": "               Patv          Wspd        TurbID\ncount  4.727520e+06  4.727520e+06  4.727520e+06\nmean   3.501672e+02  5.028012e+00  6.750000e+01\nstd    4.235924e+02  3.382486e+00  3.868139e+01\nmin   -9.330000e+00  0.000000e+00  1.000000e+00\n25%   -3.000000e-01  2.250000e+00  3.400000e+01\n50%    1.818500e+02  4.360000e+00  6.750000e+01\n75%    5.448125e+02  6.990000e+00  1.010000e+02\nmax    1.567020e+03  2.629000e+01  1.340000e+02",
      "text/html": "<div>\n<style scoped>\n    .dataframe tbody tr th:only-of-type {\n        vertical-align: middle;\n    }\n\n    .dataframe tbody tr th {\n        vertical-align: top;\n    }\n\n    .dataframe thead th {\n        text-align: right;\n    }\n</style>\n<table border=\"1\" class=\"dataframe\">\n  <thead>\n    <tr style=\"text-align: right;\">\n      <th></th>\n      <th>Patv</th>\n      <th>Wspd</th>\n      <th>TurbID</th>\n    </tr>\n  </thead>\n  <tbody>\n    <tr>\n      <th>count</th>\n      <td>4.727520e+06</td>\n      <td>4.727520e+06</td>\n      <td>4.727520e+06</td>\n    </tr>\n    <tr>\n      <th>mean</th>\n      <td>3.501672e+02</td>\n      <td>5.028012e+00</td>\n      <td>6.750000e+01</td>\n    </tr>\n    <tr>\n      <th>std</th>\n      <td>4.235924e+02</td>\n      <td>3.382486e+00</td>\n      <td>3.868139e+01</td>\n    </tr>\n    <tr>\n      <th>min</th>\n      <td>-9.330000e+00</td>\n      <td>0.000000e+00</td>\n      <td>1.000000e+00</td>\n    </tr>\n    <tr>\n      <th>25%</th>\n      <td>-3.000000e-01</td>\n      <td>2.250000e+00</td>\n      <td>3.400000e+01</td>\n    </tr>\n    <tr>\n      <th>50%</th>\n      <td>1.818500e+02</td>\n      <td>4.360000e+00</td>\n      <td>6.750000e+01</td>\n    </tr>\n    <tr>\n      <th>75%</th>\n      <td>5.448125e+02</td>\n      <td>6.990000e+00</td>\n      <td>1.010000e+02</td>\n    </tr>\n    <tr>\n      <th>max</th>\n      <td>1.567020e+03</td>\n      <td>2.629000e+01</td>\n      <td>1.340000e+02</td>\n    </tr>\n  </tbody>\n</table>\n</div>"
     },
     "execution_count": 4,
     "metadata": {},
     "output_type": "execute_result"
    }
   ],
   "source": [
    "df.describe()"
   ],
   "metadata": {
    "collapsed": false
   }
  },
  {
   "cell_type": "code",
   "execution_count": 5,
   "outputs": [],
   "source": [
    "from sklearn.preprocessing import MinMaxScaler\n",
    "scaler = MinMaxScaler()\n",
    "df = pd.DataFrame(scaler.fit_transform(df))\n"
   ],
   "metadata": {
    "collapsed": false
   }
  },
  {
   "cell_type": "code",
   "execution_count": 17,
   "outputs": [],
   "source": [
    "from kmeans import *\n",
    "centroids=get_centroids(data=df,n=3)"
   ],
   "metadata": {
    "collapsed": false
   }
  },
  {
   "cell_type": "code",
   "execution_count": 18,
   "outputs": [],
   "source": [
    "clusters,centroids,loss,pre= train(data=df,centroids=centroids,epochs=5)"
   ],
   "metadata": {
    "collapsed": false
   }
  },
  {
   "cell_type": "code",
   "execution_count": 19,
   "outputs": [
    {
     "data": {
      "text/plain": "[[25.552086506244287, 42.79546146816936, 31.652452025586353],\n [23.24451297932108, 32.58078231292517, 44.17470470775375],\n [20.683973838291536, 30.567189562392123, 48.74883659931634],\n [18.89178681422818, 29.481313669746505, 51.62689951602532],\n [17.665858632010018, 28.50670118793786, 53.82744018005212]]"
     },
     "execution_count": 19,
     "metadata": {},
     "output_type": "execute_result"
    }
   ],
   "source": [
    "pre"
   ],
   "metadata": {
    "collapsed": false
   }
  }
 ],
 "metadata": {
  "kernelspec": {
   "display_name": "Python 3",
   "language": "python",
   "name": "python3"
  },
  "language_info": {
   "codemirror_mode": {
    "name": "ipython",
    "version": 2
   },
   "file_extension": ".py",
   "mimetype": "text/x-python",
   "name": "python",
   "nbconvert_exporter": "python",
   "pygments_lexer": "ipython2",
   "version": "2.7.6"
  }
 },
 "nbformat": 4,
 "nbformat_minor": 0
}
