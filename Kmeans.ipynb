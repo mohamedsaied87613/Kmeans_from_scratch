{
 "cells": [
  {
   "cell_type": "code",
   "execution_count": 2,
   "metadata": {
    "collapsed": true
   },
   "outputs": [],
   "source": [
    "import numpy as np\n",
    "import pandas as pd"
   ]
  },
  {
   "cell_type": "code",
   "execution_count": 3,
   "outputs": [
    {
     "data": {
      "text/plain": "     Patv  Wspd  TurbID\n0    0.00  0.00       1\n1  494.66  6.17       1\n2  509.76  6.27       1\n3  542.53  6.42       1\n4  509.36  6.25       1",
      "text/html": "<div>\n<style scoped>\n    .dataframe tbody tr th:only-of-type {\n        vertical-align: middle;\n    }\n\n    .dataframe tbody tr th {\n        vertical-align: top;\n    }\n\n    .dataframe thead th {\n        text-align: right;\n    }\n</style>\n<table border=\"1\" class=\"dataframe\">\n  <thead>\n    <tr style=\"text-align: right;\">\n      <th></th>\n      <th>Patv</th>\n      <th>Wspd</th>\n      <th>TurbID</th>\n    </tr>\n  </thead>\n  <tbody>\n    <tr>\n      <th>0</th>\n      <td>0.00</td>\n      <td>0.00</td>\n      <td>1</td>\n    </tr>\n    <tr>\n      <th>1</th>\n      <td>494.66</td>\n      <td>6.17</td>\n      <td>1</td>\n    </tr>\n    <tr>\n      <th>2</th>\n      <td>509.76</td>\n      <td>6.27</td>\n      <td>1</td>\n    </tr>\n    <tr>\n      <th>3</th>\n      <td>542.53</td>\n      <td>6.42</td>\n      <td>1</td>\n    </tr>\n    <tr>\n      <th>4</th>\n      <td>509.36</td>\n      <td>6.25</td>\n      <td>1</td>\n    </tr>\n  </tbody>\n</table>\n</div>"
     },
     "execution_count": 3,
     "metadata": {},
     "output_type": "execute_result"
    }
   ],
   "source": [
    "df=pd.read_csv(\"optics_kmean_process.csv\")\n",
    "df.head()"
   ],
   "metadata": {
    "collapsed": false
   }
  },
  {
   "cell_type": "code",
   "execution_count": 4,
   "outputs": [
    {
     "data": {
      "text/plain": "            max   min\nPatv    1567.02 -9.33\nWspd      26.29  0.00\nTurbID   134.00  1.00",
      "text/html": "<div>\n<style scoped>\n    .dataframe tbody tr th:only-of-type {\n        vertical-align: middle;\n    }\n\n    .dataframe tbody tr th {\n        vertical-align: top;\n    }\n\n    .dataframe thead th {\n        text-align: right;\n    }\n</style>\n<table border=\"1\" class=\"dataframe\">\n  <thead>\n    <tr style=\"text-align: right;\">\n      <th></th>\n      <th>max</th>\n      <th>min</th>\n    </tr>\n  </thead>\n  <tbody>\n    <tr>\n      <th>Patv</th>\n      <td>1567.02</td>\n      <td>-9.33</td>\n    </tr>\n    <tr>\n      <th>Wspd</th>\n      <td>26.29</td>\n      <td>0.00</td>\n    </tr>\n    <tr>\n      <th>TurbID</th>\n      <td>134.00</td>\n      <td>1.00</td>\n    </tr>\n  </tbody>\n</table>\n</div>"
     },
     "execution_count": 4,
     "metadata": {},
     "output_type": "execute_result"
    }
   ],
   "source": [
    "pd.DataFrame({\"max\":df.max(), \"min\":df.min()})"
   ],
   "metadata": {
    "collapsed": false
   }
  },
  {
   "cell_type": "code",
   "execution_count": 5,
   "outputs": [
    {
     "data": {
      "text/plain": "               Patv          Wspd        TurbID\ncount  4.727520e+06  4.727520e+06  4.727520e+06\nmean   3.501672e+02  5.028012e+00  6.750000e+01\nstd    4.235924e+02  3.382486e+00  3.868139e+01\nmin   -9.330000e+00  0.000000e+00  1.000000e+00\n25%   -3.000000e-01  2.250000e+00  3.400000e+01\n50%    1.818500e+02  4.360000e+00  6.750000e+01\n75%    5.448125e+02  6.990000e+00  1.010000e+02\nmax    1.567020e+03  2.629000e+01  1.340000e+02",
      "text/html": "<div>\n<style scoped>\n    .dataframe tbody tr th:only-of-type {\n        vertical-align: middle;\n    }\n\n    .dataframe tbody tr th {\n        vertical-align: top;\n    }\n\n    .dataframe thead th {\n        text-align: right;\n    }\n</style>\n<table border=\"1\" class=\"dataframe\">\n  <thead>\n    <tr style=\"text-align: right;\">\n      <th></th>\n      <th>Patv</th>\n      <th>Wspd</th>\n      <th>TurbID</th>\n    </tr>\n  </thead>\n  <tbody>\n    <tr>\n      <th>count</th>\n      <td>4.727520e+06</td>\n      <td>4.727520e+06</td>\n      <td>4.727520e+06</td>\n    </tr>\n    <tr>\n      <th>mean</th>\n      <td>3.501672e+02</td>\n      <td>5.028012e+00</td>\n      <td>6.750000e+01</td>\n    </tr>\n    <tr>\n      <th>std</th>\n      <td>4.235924e+02</td>\n      <td>3.382486e+00</td>\n      <td>3.868139e+01</td>\n    </tr>\n    <tr>\n      <th>min</th>\n      <td>-9.330000e+00</td>\n      <td>0.000000e+00</td>\n      <td>1.000000e+00</td>\n    </tr>\n    <tr>\n      <th>25%</th>\n      <td>-3.000000e-01</td>\n      <td>2.250000e+00</td>\n      <td>3.400000e+01</td>\n    </tr>\n    <tr>\n      <th>50%</th>\n      <td>1.818500e+02</td>\n      <td>4.360000e+00</td>\n      <td>6.750000e+01</td>\n    </tr>\n    <tr>\n      <th>75%</th>\n      <td>5.448125e+02</td>\n      <td>6.990000e+00</td>\n      <td>1.010000e+02</td>\n    </tr>\n    <tr>\n      <th>max</th>\n      <td>1.567020e+03</td>\n      <td>2.629000e+01</td>\n      <td>1.340000e+02</td>\n    </tr>\n  </tbody>\n</table>\n</div>"
     },
     "execution_count": 5,
     "metadata": {},
     "output_type": "execute_result"
    }
   ],
   "source": [
    "df.describe()"
   ],
   "metadata": {
    "collapsed": false
   }
  },
  {
   "cell_type": "code",
   "execution_count": 6,
   "outputs": [
    {
     "data": {
      "text/plain": "2486960"
     },
     "execution_count": 6,
     "metadata": {},
     "output_type": "execute_result"
    }
   ],
   "source": [
    "np.random.randint(0,df.shape[0])"
   ],
   "metadata": {
    "collapsed": false
   }
  },
  {
   "cell_type": "code",
   "execution_count": 165,
   "outputs": [
    {
     "data": {
      "text/plain": "array([[0.00572842, 0.04374287, 0.2481203 ],\n       [0.97015257, 0.44009129, 0.61654135]])"
     },
     "execution_count": 165,
     "metadata": {},
     "output_type": "execute_result"
    }
   ],
   "source": [
    "import random\n",
    "\n",
    "#pick random centroids with number of clusters:\n",
    "def get_centroids(data,n=3):\n",
    "    random_values = random.choices(range(0,data.shape[0] ), k=n)\n",
    "    return np.array(data.loc[random_values])"
   ],
   "metadata": {
    "collapsed": false
   }
  },
  {
   "cell_type": "code",
   "execution_count": 98,
   "outputs": [],
   "source": [
    "def cost(data,clusters,centroids):\n",
    "    cost = [np.sum(np.linalg.norm( data.iloc[np.where(clusters==i)[0]]   -   centroids[i] ,axis=1 )**2) for i in range(centroids.shape[0])]\n",
    "    return np.sum(cost)"
   ],
   "metadata": {
    "collapsed": false
   }
  },
  {
   "cell_type": "code",
   "execution_count": 194,
   "outputs": [],
   "source": [
    "from scipy.spatial import distance\n",
    "\n",
    "def train(data,centroids,epochs):\n",
    "    loss=[]\n",
    "    precentage_of_clusters=[]\n",
    "    for i in range(epochs):\n",
    "\n",
    "        #get distance between each point and centroids\n",
    "        dist= np.array([ np.sum(np.sqrt((data-j)**2),axis=1) for j in centroids ])\n",
    "\n",
    "        #select which one is closer\n",
    "        clusters=np.argmin(dist, axis=0)\n",
    "\n",
    "        precentage_of_clusters.append([  (data.iloc[np.where(clusters==i)]).shape[0] / data.shape[0]*100   for i in range(centroids.shape[0])  ])\n",
    "\n",
    "\n",
    "        #update centroids\n",
    "        centroids=np.array([  data.iloc[np.where(clusters==i)].sum() / np.where(clusters==i)[0].shape[0]   for i in range(centroids.shape[0])       ])\n",
    "\n",
    "        loss.append(cost(data,clusters,centroids))\n",
    "\n",
    "    return clusters,centroids,loss,precentage_of_clusters"
   ],
   "metadata": {
    "collapsed": false
   }
  },
  {
   "cell_type": "code",
   "execution_count": 195,
   "outputs": [],
   "source": [
    "from sklearn.preprocessing import MinMaxScaler\n",
    "scaler = MinMaxScaler()\n",
    "df = pd.DataFrame(scaler.fit_transform(df))\n"
   ],
   "metadata": {
    "collapsed": false
   }
  },
  {
   "cell_type": "code",
   "execution_count": 202,
   "outputs": [],
   "source": [
    "centroids=get_centroids(data=df,n=2)\n",
    "clusters,centroids,loss,pre=train(data=df,centroids=centroids,epochs=15)"
   ],
   "metadata": {
    "collapsed": false
   }
  },
  {
   "cell_type": "code",
   "execution_count": 204,
   "outputs": [
    {
     "data": {
      "text/plain": "[47.17864757843436, 52.821352421565635]"
     },
     "execution_count": 204,
     "metadata": {},
     "output_type": "execute_result"
    }
   ],
   "source": [
    "pre[14]"
   ],
   "metadata": {
    "collapsed": false
   }
  }
 ],
 "metadata": {
  "kernelspec": {
   "display_name": "Python 3",
   "language": "python",
   "name": "python3"
  },
  "language_info": {
   "codemirror_mode": {
    "name": "ipython",
    "version": 2
   },
   "file_extension": ".py",
   "mimetype": "text/x-python",
   "name": "python",
   "nbconvert_exporter": "python",
   "pygments_lexer": "ipython2",
   "version": "2.7.6"
  }
 },
 "nbformat": 4,
 "nbformat_minor": 0
}
